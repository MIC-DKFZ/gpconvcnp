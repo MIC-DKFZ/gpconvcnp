{
 "cells": [
  {
   "cell_type": "markdown",
   "metadata": {},
   "source": [
    "# GP-ConvCNP Examples"
   ]
  },
  {
   "cell_type": "markdown",
   "metadata": {},
   "source": [
    "This notebook will allow you to explore our proposed GP-ConvCNP as well as all the baselines. You will need to install the `neuralprocess` package contained within the ZIP file you received. For instructions on how to do that, please consult the `README.md`.\n",
    "\n",
    "Below, we will first construct data generators that produce functions like the ones used in the paper. We then load pretrained models and visualize predictions similar to the figures found in our paper."
   ]
  },
  {
   "cell_type": "markdown",
   "metadata": {},
   "source": [
    "## Imports"
   ]
  },
  {
   "cell_type": "code",
   "execution_count": 1,
   "metadata": {},
   "outputs": [],
   "source": [
    "import torch\n",
    "import numpy as np\n",
    "import matplotlib.pyplot as plt\n",
    "\n",
    "from neuralprocess.data import GaussianProcessGenerator, StepFunctionGenerator, gp\n",
    "from neuralprocess.model import pretrained"
   ]
  },
  {
   "cell_type": "markdown",
   "metadata": {},
   "source": [
    "## Data Generators"
   ]
  },
  {
   "cell_type": "markdown",
   "metadata": {},
   "source": [
    "These generators are constructed to match what the models were trained on (except num_context and num_target, which are fixed). Feel free to change parameters to see how well the methods handle those changes, both in distribution (e.g. num_context from 5 to 50) and out of distribution (e.g. different kernel lengthscale)"
   ]
  },
  {
   "cell_type": "code",
   "execution_count": 2,
   "metadata": {},
   "outputs": [],
   "source": [
    "base_kwargs = dict(\n",
    "    batch_size=1,\n",
    "    x_range=(-3, 3),\n",
    "    num_context=20,\n",
    "    num_target=200,\n",
    "    output_noise=0.,\n",
    ")\n",
    "\n",
    "generators = {\n",
    "    \"matern\": GaussianProcessGenerator(\n",
    "        **base_kwargs,\n",
    "        kernel_type=gp.Matern52Kernel,\n",
    "        kernel_kwargs=dict(lengthscale=0.5)\n",
    "    ),\n",
    "    \"wp\": GaussianProcessGenerator(\n",
    "        **base_kwargs,\n",
    "        kernel_type=gp.WeaklyPeriodicKernel,\n",
    "        kernel_kwargs=dict()\n",
    "    ),\n",
    "    \"step\": StepFunctionGenerator(\n",
    "        **base_kwargs,\n",
    "        y_range=(-3, 3),\n",
    "        number_of_steps=(3, 10),\n",
    "        min_step_width=0.1,\n",
    "        min_step_height=0.1\n",
    "    )\n",
    "}"
   ]
  },
  {
   "cell_type": "markdown",
   "metadata": {},
   "source": [
    "## Pretrained Models"
   ]
  },
  {
   "cell_type": "markdown",
   "metadata": {},
   "source": [
    "The models are very small (NP ~1.3MB, ANP ~2.1MB, ConvCNP & GP-ConvCNP ~207kB), so we can load them all at once."
   ]
  },
  {
   "cell_type": "code",
   "execution_count": 2,
   "metadata": {},
   "outputs": [],
   "source": [
    "NP_models = {}\n",
    "ANP_models = {}\n",
    "ConvCNP_models = {}\n",
    "GPConvCNP_models = {}\n",
    "for function_type in (\"matern\", \"wp\", \"step\"):\n",
    "    NP_models[function_type] = pretrained.NeuralProcess(function_type)\n",
    "    ANP_models[function_type] = pretrained.AttentiveNeuralProcess(function_type)\n",
    "    ConvCNP_models[function_type] = pretrained.ConvCNP(function_type, use_gp=False)\n",
    "    GPConvCNP_models[function_type] = pretrained.ConvCNP(function_type, use_gp=True)"
   ]
  }
 ],
 "metadata": {
  "kernelspec": {
   "display_name": "Python 3",
   "language": "python",
   "name": "python3"
  },
  "language_info": {
   "codemirror_mode": {
    "name": "ipython",
    "version": 3
   },
   "file_extension": ".py",
   "mimetype": "text/x-python",
   "name": "python",
   "nbconvert_exporter": "python",
   "pygments_lexer": "ipython3",
   "version": "3.6.8"
  },
  "latex_envs": {
   "LaTeX_envs_menu_present": true,
   "autoclose": false,
   "autocomplete": true,
   "bibliofile": "biblio.bib",
   "cite_by": "apalike",
   "current_citInitial": 1,
   "eqLabelWithNumbers": true,
   "eqNumInitial": 1,
   "hotkeys": {
    "equation": "Ctrl-E",
    "itemize": "Ctrl-I"
   },
   "labels_anchors": false,
   "latex_user_defs": false,
   "report_style_numbering": false,
   "user_envs_cfg": false
  }
 },
 "nbformat": 4,
 "nbformat_minor": 2
}
